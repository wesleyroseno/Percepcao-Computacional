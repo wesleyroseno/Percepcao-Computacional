{
 "cells": [
  {
   "cell_type": "code",
   "execution_count": 2,
   "metadata": {},
   "outputs": [
    {
     "name": "stderr",
     "output_type": "stream",
     "text": [
      "C:\\ProgramData\\Anaconda3\\lib\\site-packages\\pydub\\utils.py:165: RuntimeWarning: Couldn't find ffmpeg or avconv - defaulting to ffmpeg, but may not work\n",
      "  warn(\"Couldn't find ffmpeg or avconv - defaulting to ffmpeg, but may not work\", RuntimeWarning)\n"
     ]
    }
   ],
   "source": [
    "from pydub import AudioSegment\n",
    "from python_speech_features import logfbank\n",
    "from sklearn.cluster import KMeans\n",
    "\n",
    "import numpy as np\n",
    "import scipy.io.wavfile as wav\n",
    "import speech_recognition as sr"
   ]
  },
  {
   "cell_type": "code",
   "execution_count": 3,
   "metadata": {},
   "outputs": [],
   "source": [
    "def detect_leading_silence(sound, silence_threshold=-40.0, chunk_size=10):\n",
    "    '''\n",
    "    sound is a pydub.AudioSegment\n",
    "    silence_threshold in dB\n",
    "    chunk_size in ms\n",
    "\n",
    "    iterate over chunks until you find the first one with sound\n",
    "    '''\n",
    "    trim_ms = 0 # ms\n",
    "\n",
    "    assert chunk_size > 0 # to avoid infinite loop\n",
    "    while sound[trim_ms:trim_ms+chunk_size].dBFS < silence_threshold and trim_ms < len(sound):\n",
    "        trim_ms += chunk_size\n",
    "\n",
    "    return trim_ms"
   ]
  },
  {
   "cell_type": "code",
   "execution_count": 4,
   "metadata": {},
   "outputs": [],
   "source": [
    "def remover_silencio(comando):\n",
    "\n",
    "    sound = AudioSegment.from_file(comando, format=\"wav\")\n",
    "\n",
    "    start_trim = detect_leading_silence(sound)\n",
    "    end_trim = detect_leading_silence(sound.reverse())\n",
    "\n",
    "    duration = len(sound)    \n",
    "    trimmed_sound = sound[start_trim:duration-end_trim]\n",
    "    \n",
    "    comando_recortado = comando[:-4] + \"_recortado.wav\"\n",
    "\n",
    "    trimmed_sound.set_channels(1).export(comando_recortado, format=\"wav\")\n",
    "    \n",
    "    return (comando_recortado)"
   ]
  },
  {
   "cell_type": "code",
   "execution_count": 5,
   "metadata": {},
   "outputs": [],
   "source": [
    "def limpar_audio(comando):\n",
    "\n",
    "    r = sr.Recognizer()\n",
    "\n",
    "    som = sr.AudioFile(comando)\n",
    "    with som as source:\n",
    "        r.adjust_for_ambient_noise(source)\n",
    "        audio = r.record(source)\n",
    "        \n",
    "    comando_limpo = comando[:-4] + \"_limpo.wav\"\n",
    "\n",
    "    with open(comando_limpo, \"wb\") as f:\n",
    "        f.write(audio.get_wav_data())\n",
    "        \n",
    "    return (comando_limpo)"
   ]
  },
  {
   "cell_type": "code",
   "execution_count": 6,
   "metadata": {},
   "outputs": [],
   "source": [
    "def extrair_caracteristica(audio):\n",
    "    \n",
    "    (rate,sig) = wav.read(remover_silencio(limpar_audio(audio)))\n",
    "    fbank_feat = logfbank(sig,samplerate=rate, lowfreq=50, highfreq=3400)\n",
    "    fbank_feat = fbank_feat[0:,2:13]\n",
    "    \n",
    "    caracteristica = []\n",
    "    for x in fbank_feat:\n",
    "        for y in x:\n",
    "            caracteristica.append(y)   \n",
    "    \n",
    "    return (caracteristica)"
   ]
  },
  {
   "cell_type": "code",
   "execution_count": 7,
   "metadata": {},
   "outputs": [],
   "source": [
    "def dados(audios):\n",
    "    caracteristicas = []\n",
    "    \n",
    "    for audio in audios:\n",
    "        caracteristicas.append(extrair_caracteristica(audio))\n",
    "        \n",
    "    \n",
    "    return (treinamento(caracteristicas))"
   ]
  },
  {
   "cell_type": "code",
   "execution_count": 8,
   "metadata": {},
   "outputs": [],
   "source": [
    "def treinamento(comandos):\n",
    "    menor_comando = len(comandos[0])\n",
    "    \n",
    "    for comando in comandos:\n",
    "        print(len(comando))\n",
    "        if (len(comando) < menor_comando):\n",
    "            menor_comando = len(comando)\n",
    "    x = 0        \n",
    "    for comando in comandos:\n",
    "        comandos[x] = comando[0:menor_comando]\n",
    "        x += 1\n",
    "\n",
    "    X = np.array(comandos)\n",
    "        \n",
    "    kmeans = KMeans(precompute_distances=True, n_clusters=len(X), random_state=0, n_init=12, max_iter=3000, tol=0.00001, verbose=0, algorithm='elkan').fit(X)\n",
    "    \n",
    "    print (kmeans.cluster_centers_)\n",
    "    \n",
    "    print(kmeans.labels_)\n",
    "    \n",
    "    return (kmeans)"
   ]
  },
  {
   "cell_type": "code",
   "execution_count": 27,
   "metadata": {},
   "outputs": [
    {
     "name": "stderr",
     "output_type": "stream",
     "text": [
      "WARNING:root:frame length (1103) is greater than FFT size (512), frame will be truncated. Increase NFFT to avoid.\n",
      "WARNING:root:frame length (1103) is greater than FFT size (512), frame will be truncated. Increase NFFT to avoid.\n"
     ]
    },
    {
     "name": "stdout",
     "output_type": "stream",
     "text": [
      "352\n",
      "231\n",
      "[[ 10.38010272 -36.04365339   8.71986289   6.1190892    7.92944027\n",
      "    4.89458479   4.9657277    4.00809017   4.20303438   4.91625016\n",
      "    3.99258882   9.7046126  -36.04365339   9.13595045   8.12636072\n",
      "    9.31276558   8.65272111   4.23767422   5.06959223   3.84242341\n",
      "    4.344874     4.88040045  10.51966057 -36.04365339  10.13005209\n",
      "    9.0716493    9.68740931   8.51936755   6.85804671   6.61847471\n",
      "    6.16129054   7.06538056   6.01130174  10.64756415 -36.04365339\n",
      "   10.44666598   9.78878939   9.24985897   8.43688625   5.6771477\n",
      "    4.11883522   6.59950995   6.43368258   5.3840741    9.66408468\n",
      "  -36.04365339   9.44613067   8.86274683   9.56911658   9.57136037\n",
      "    7.22845118   6.46342051   6.0040419    2.46318953   6.68507724\n",
      "   10.53453695 -36.04365339   9.47247462   9.96499231   8.50396309\n",
      "    8.49505996   5.53018385   6.16498067   6.48234529   6.35542466\n",
      "    6.29954092   9.67699545 -36.04365339   9.28370443   8.98197289\n",
      "    9.36087616   7.63970837   7.54745905   7.03074237   6.89434855\n",
      "    7.02453699   5.94440744  10.65620948 -36.04365339  10.39194076\n",
      "    9.55534567   9.67936286   9.42562046   6.44825862   6.58308\n",
      "    7.06081289   4.75530926   3.85017596  10.95319205 -36.04365339\n",
      "    7.18369479   9.80926841  10.96092797   9.25130718   7.6415134\n",
      "    7.08830037   6.96872081   6.50196325   6.96885066  11.40855861\n",
      "  -36.04365339  10.7712372    8.46313993  11.87260581  10.11095418\n",
      "    8.44112146   7.8278211    6.82694997   6.52497752   5.17246257\n",
      "   10.64387941 -36.04365339  10.71151765   9.03422052  11.68163838\n",
      "    7.93456434   9.5121641    9.66715301   6.44169522   8.5819825\n",
      "    7.69148716  11.51304564 -36.04365339  11.09221105   8.30324846\n",
      "    9.60309141   9.9404082   10.06181057   8.25421966   9.38615533\n",
      "    6.62607616   7.52127511  11.26338208 -36.04365339  10.2137792\n",
      "   10.69314107   9.69790252  10.82316473  11.6911467   11.43060819\n",
      "    8.24425802   8.68841839   7.08152488  11.22821425 -36.04365339\n",
      "   10.89644114  10.61852463  11.34385528  11.78034965  12.19081923\n",
      "   11.6799994    9.33703479   8.52495359   6.95929578  10.7885232\n",
      "  -36.04365339  11.13649149   9.30686167   8.79995313  11.85884132\n",
      "   12.21269727  12.20254749  10.15184917   8.99964014   8.9204419\n",
      "    9.87141805 -36.04365339  10.66950134   6.75453586   9.66518864\n",
      "   11.66293071  11.40901872  12.79692365  10.92065193   8.97737067\n",
      "    7.66972602  10.96859715 -36.04365339  11.24395191   7.63895613\n",
      "    9.59522123  11.08428076   9.52550249  11.86135963   9.90964861\n",
      "    9.35088276   7.96153334  10.68776769 -36.04365339  10.24493551\n",
      "    8.80808306   8.642272     9.24740093  10.22393915  11.32328552\n",
      "   10.58651547   8.82044681   9.18790809   9.87737096 -36.04365339\n",
      "   10.08691048   8.45520809   9.55547109   9.50027188  10.2904641\n",
      "   11.00047602  11.46145654   5.87786937   8.62047794  10.69403341\n",
      "  -36.04365339  10.61616888   9.25033447   8.5251981    7.41184866\n",
      "   11.21885717  10.41672117  10.82082176   8.41392109   5.4332676\n",
      "    9.59288165 -36.04365339   9.54693661   9.14813181   8.48993053\n",
      "   10.23461972   9.67303035  10.06678012  11.02720748   9.02947681\n",
      "    6.72432379]\n",
      " [ 11.00900771 -36.04365339   6.72248434   9.8077674    6.87785018\n",
      "   10.20556302   7.0486614    7.21561979   7.21171509   6.21774599\n",
      "    6.48707675  11.12360308 -36.04365339   8.54496221  10.73469117\n",
      "    8.69666246   9.20674293   8.13223791   3.89311668   6.08636527\n",
      "    6.67420551   6.38841146  10.7397143  -36.04365339   7.29189252\n",
      "   10.96936647   8.77510048   7.94566331   8.7178668    5.14546108\n",
      "    7.04610791   5.778178     6.44480312  11.13783688 -36.04365339\n",
      "    9.5371786   10.56845116   7.40663557   8.45567475   8.31030841\n",
      "    7.50452066   7.35706232   6.2057174    6.28551015  11.23520022\n",
      "  -36.04365339   9.47313362  10.83467175   8.17676317   7.42159834\n",
      "    7.21789235   7.70014896   4.89743752   7.63804066   7.61393467\n",
      "   10.81768527 -36.04365339   8.36244617  11.63458548   9.32634645\n",
      "    7.59070416   7.19266725   8.36952052   8.03364652   6.55237632\n",
      "    6.14485428  11.4677062  -36.04365339   9.79969699  11.28645995\n",
      "    4.91426733   9.6600599    8.73420438   7.60941729   7.70736225\n",
      "    2.70389661   6.64339932  10.78420069 -36.04365339   8.46338945\n",
      "   11.57245109   9.70865785   8.959771     8.83173256   7.02772153\n",
      "    7.45792492   4.5579689    6.73421949  11.11899798 -36.04365339\n",
      "    9.8657452   11.20121174   9.02760701   9.42574717   8.84618734\n",
      "    5.68381565   6.42261862   5.63932478   7.17524039  11.08570451\n",
      "  -36.04365339  10.36757246  10.8600119    8.55965142   9.23423271\n",
      "    5.50247826   7.53343838   1.56442757   6.33478861   7.78627922\n",
      "   10.37925604 -36.04365339   8.6450042   11.2836036   10.59475019\n",
      "    7.52004685   7.16608515   6.70797628   7.7435615    6.22198765\n",
      "    5.5704172   11.14664693 -36.04365339  10.61481559   9.48751074\n",
      "    9.35558329   9.13752705   6.99861057   7.3262717    7.54384641\n",
      "    7.63899331   4.62447242  10.32369624 -36.04365339   8.78535988\n",
      "   10.09094096  10.97799907   7.04934709   7.65245405   6.08102685\n",
      "    5.53968744   7.70487133   6.73634263  11.03855112 -36.04365339\n",
      "   10.56816629   7.53337038   9.68506622   5.89353745   6.44019343\n",
      "    5.51542494   4.99374359   7.49653357   4.65528875  10.72293079\n",
      "  -36.04365339   9.46925768   9.24483591  10.92475366   7.57379338\n",
      "    8.47717447   7.74166681   7.77282081   5.05583273   6.44630181\n",
      "   10.90697981 -36.04365339  10.45228566   8.34644746   8.6620007\n",
      "    7.09345404   6.33542346   3.94339684   6.69377748   6.21806749\n",
      "    4.88314712  10.0588588  -36.04365339   9.78322848   8.27049924\n",
      "    8.44747557   6.62908541   3.77338109   6.90407351   6.63182044\n",
      "    5.95236445   4.87589891  10.23644245 -36.04365339   6.92585526\n",
      "    5.52375838   9.54074999   7.83179064   7.30399071   4.05606643\n",
      "    6.80291974   0.82006802   3.70473044  10.01347373 -36.04365339\n",
      "    7.71914188   7.92118883   7.98243283   6.99315428   5.59664766\n",
      "    4.1686657    6.7312614    5.86407923   6.12615751   9.85236867\n",
      "  -36.04365339   8.65596283   8.45883128   9.1497272    8.11845363\n",
      "    5.83517037   7.1579281    7.31049765   6.77743396   6.41554985\n",
      "    9.51544803 -36.04365339   8.29546399   9.54899346   9.66939142\n",
      "    8.62193418   6.52479644   7.25075696   5.77307421   6.32054776\n",
      "    5.36765119]]\n",
      "[0 1]\n"
     ]
    }
   ],
   "source": [
    "kmeans = dados([\"zero.wav\", \"um.wav\"])"
   ]
  },
  {
   "cell_type": "code",
   "execution_count": 33,
   "metadata": {},
   "outputs": [
    {
     "name": "stderr",
     "output_type": "stream",
     "text": [
      "WARNING:root:frame length (1103) is greater than FFT size (512), frame will be truncated. Increase NFFT to avoid.\n"
     ]
    }
   ],
   "source": [
    "a = extrair_caracteristica(\"sim1.wav\")"
   ]
  },
  {
   "cell_type": "code",
   "execution_count": 31,
   "metadata": {},
   "outputs": [
    {
     "name": "stderr",
     "output_type": "stream",
     "text": [
      "WARNING:root:frame length (1103) is greater than FFT size (512), frame will be truncated. Increase NFFT to avoid.\n"
     ]
    },
    {
     "data": {
      "text/plain": [
       "array([0])"
      ]
     },
     "execution_count": 31,
     "metadata": {},
     "output_type": "execute_result"
    }
   ],
   "source": [
    "kmeans.predict([extrair_caracteristica(\"zero2.wav\")[0:231]])"
   ]
  },
  {
   "cell_type": "code",
   "execution_count": 26,
   "metadata": {},
   "outputs": [
    {
     "name": "stderr",
     "output_type": "stream",
     "text": [
      "WARNING:root:frame length (1103) is greater than FFT size (512), frame will be truncated. Increase NFFT to avoid.\n"
     ]
    },
    {
     "data": {
      "text/plain": [
       "363"
      ]
     },
     "execution_count": 26,
     "metadata": {},
     "output_type": "execute_result"
    }
   ],
   "source": [
    "len(extrair_caracteristica(\"um2.wav\"))"
   ]
  }
 ],
 "metadata": {
  "kernelspec": {
   "display_name": "Python 3",
   "language": "python",
   "name": "python3"
  },
  "language_info": {
   "codemirror_mode": {
    "name": "ipython",
    "version": 3
   },
   "file_extension": ".py",
   "mimetype": "text/x-python",
   "name": "python",
   "nbconvert_exporter": "python",
   "pygments_lexer": "ipython3",
   "version": "3.6.6"
  }
 },
 "nbformat": 4,
 "nbformat_minor": 2
}
