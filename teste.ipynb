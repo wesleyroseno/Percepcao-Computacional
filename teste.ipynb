{
 "cells": [
  {
   "cell_type": "code",
   "execution_count": 402,
   "metadata": {},
   "outputs": [],
   "source": [
    "from pydub import AudioSegment\n",
    "from python_speech_features import logfbank\n",
    "from python_speech_features import ssc\n",
    "from sklearn.cluster import KMeans\n",
    "\n",
    "import numpy as np\n",
    "import scipy.io.wavfile as wav\n",
    "import speech_recognition as sr"
   ]
  },
  {
   "cell_type": "code",
   "execution_count": 30,
   "metadata": {},
   "outputs": [],
   "source": [
    "def detect_leading_silence(sound, silence_threshold=-50.0, chunk_size=10):\n",
    "    '''\n",
    "    sound is a pydub.AudioSegment\n",
    "    silence_threshold in dB\n",
    "    chunk_size in ms\n",
    "\n",
    "    iterate over chunks until you find the first one with sound\n",
    "    '''\n",
    "    trim_ms = 0 # ms\n",
    "\n",
    "    assert chunk_size > 0 # to avoid infinite loop\n",
    "    while sound[trim_ms:trim_ms+chunk_size].dBFS < silence_threshold and trim_ms < len(sound):\n",
    "        trim_ms += chunk_size\n",
    "\n",
    "    return trim_ms"
   ]
  },
  {
   "cell_type": "code",
   "execution_count": 60,
   "metadata": {},
   "outputs": [],
   "source": [
    "def remover_silencio(comando):\n",
    "\n",
    "    sound = AudioSegment.from_file(comando, format=\"wav\")\n",
    "\n",
    "    start_trim = detect_leading_silence(sound)\n",
    "    end_trim = detect_leading_silence(sound.reverse())\n",
    "\n",
    "    duration = len(sound)    \n",
    "    trimmed_sound = sound[start_trim:duration-end_trim]\n",
    "    \n",
    "    comando_recortado = comando[:-4] + \"_recortado.wav\"\n",
    "\n",
    "    trimmed_sound.set_channels(1).export(comando_recortado, format=\"wav\")\n",
    "    \n",
    "    return (comando_recortado)"
   ]
  },
  {
   "cell_type": "code",
   "execution_count": 59,
   "metadata": {},
   "outputs": [],
   "source": [
    "def limpar_audio(comando):\n",
    "\n",
    "    r = sr.Recognizer()\n",
    "\n",
    "    som = sr.AudioFile(comando)\n",
    "    with som as source:\n",
    "        r.adjust_for_ambient_noise(source)\n",
    "        audio = r.record(source)\n",
    "        \n",
    "    comando_limpo = comando[:-4] + \"_limpo.wav\"\n",
    "\n",
    "    with open(comando_limpo, \"wb\") as f:\n",
    "        f.write(audio.get_wav_data())\n",
    "        \n",
    "    return (comando_limpo)"
   ]
  },
  {
   "cell_type": "code",
   "execution_count": 458,
   "metadata": {},
   "outputs": [],
   "source": [
    "def extrair_caracteristica(audio):\n",
    "    \n",
    "    (rate,sig) = wav.read(remover_silencio(limpar_audio(audio)))\n",
    "    fbank_feat = logfbank(sig,samplerate=rate, lowfreq=50, highfreq=3400)\n",
    "#    fbank_feat = fbank_feat[0:,2:13]\n",
    "    \n",
    "    caracteristica = []\n",
    "    for x in fbank_feat:\n",
    "        for y in x:\n",
    "            caracteristica.append(y)   \n",
    "    \n",
    "    return (caracteristica)"
   ]
  },
  {
   "cell_type": "code",
   "execution_count": 191,
   "metadata": {},
   "outputs": [],
   "source": [
    "def dados(audios):\n",
    "    caracteristicas = []\n",
    "    \n",
    "    for audio in audios:\n",
    "        caracteristicas.append(extrair_caracteristica(audio))\n",
    "        \n",
    "    \n",
    "    return (treinamento(caracteristicas))"
   ]
  },
  {
   "cell_type": "code",
   "execution_count": 441,
   "metadata": {},
   "outputs": [],
   "source": [
    "def treinamento(comandos):\n",
    "    menor_comando = len(comandos[0])\n",
    "    \n",
    "    for comando in comandos:\n",
    "        print(len(comando))\n",
    "        if (len(comando) < menor_comando):\n",
    "            menor_comando = len(comando)\n",
    "    x = 0        \n",
    "    for comando in comandos:\n",
    "        comandos[x] = comando[0:menor_comando]\n",
    "        print(len(comandos[x]))\n",
    "        x += 1\n",
    "\n",
    "    X = np.array(comandos)\n",
    "\n",
    "    kmeans = KMeans(precompute_distances=True, n_clusters=len(X), random_state=0, n_init=12, max_iter=3000, tol=0.00001, verbose=0, algorithm='elkan').fit(X)\n",
    "    \n",
    "    print (kmeans.cluster_centers_)\n",
    "    \n",
    "    print(kmeans.labels_)\n",
    "    \n",
    "    return (menor_comando)"
   ]
  },
  {
   "cell_type": "code",
   "execution_count": 459,
   "metadata": {},
   "outputs": [
    {
     "name": "stderr",
     "output_type": "stream",
     "text": [
      "WARNING:root:frame length (1103) is greater than FFT size (512), frame will be truncated. Increase NFFT to avoid.\n",
      "WARNING:root:frame length (1103) is greater than FFT size (512), frame will be truncated. Increase NFFT to avoid.\n"
     ]
    },
    {
     "name": "stdout",
     "output_type": "stream",
     "text": [
      "5304\n",
      "3328\n",
      "3328\n",
      "3328\n",
      "[[-36.04365339   6.74189911   6.92031182 ...   7.31723658   7.12864289\n",
      "    5.74549181]\n",
      " [-36.04365339   6.95822579   9.3185176  ...   6.32937626   5.7893004\n",
      "    6.37928771]]\n",
      "[0 1]\n"
     ]
    },
    {
     "data": {
      "text/plain": [
       "3328"
      ]
     },
     "execution_count": 459,
     "metadata": {},
     "output_type": "execute_result"
    }
   ],
   "source": [
    "dados([\"0.wav\",\"1.wav\"])"
   ]
  },
  {
   "cell_type": "code",
   "execution_count": 407,
   "metadata": {},
   "outputs": [
    {
     "name": "stderr",
     "output_type": "stream",
     "text": [
      "WARNING:root:frame length (1103) is greater than FFT size (512), frame will be truncated. Increase NFFT to avoid.\n",
      "C:\\ProgramData\\Anaconda3\\lib\\site-packages\\python_speech_features\\base.py:111: RuntimeWarning: invalid value encountered in true_divide\n",
      "  return numpy.dot(pspec*R,fb.T) / feat\n"
     ]
    },
    {
     "data": {
      "text/plain": [
       "list"
      ]
     },
     "execution_count": 407,
     "metadata": {},
     "output_type": "execute_result"
    }
   ],
   "source": [
    "type(extrair_caracteristica(\"0.wav\"))"
   ]
  },
  {
   "cell_type": "code",
   "execution_count": 195,
   "metadata": {},
   "outputs": [
    {
     "name": "stderr",
     "output_type": "stream",
     "text": [
      "WARNING:root:frame length (1103) is greater than FFT size (512), frame will be truncated. Increase NFFT to avoid.\n"
     ]
    },
    {
     "data": {
      "text/plain": [
       "4584"
      ]
     },
     "execution_count": 195,
     "metadata": {},
     "output_type": "execute_result"
    }
   ],
   "source": [
    "len(extrair_caracteristica(\"3a.wav\"))"
   ]
  },
  {
   "cell_type": "code",
   "execution_count": 462,
   "metadata": {},
   "outputs": [
    {
     "name": "stderr",
     "output_type": "stream",
     "text": [
      "WARNING:root:frame length (1103) is greater than FFT size (512), frame will be truncated. Increase NFFT to avoid.\n"
     ]
    },
    {
     "data": {
      "text/plain": [
       "array([1])"
      ]
     },
     "execution_count": 462,
     "metadata": {},
     "output_type": "execute_result"
    }
   ],
   "source": [
    "kmeans.predict([extrair_caracteristica(\"0.wav\")[0:1944]])"
   ]
  },
  {
   "cell_type": "code",
   "execution_count": 139,
   "metadata": {},
   "outputs": [
    {
     "data": {
      "text/plain": [
       "2232"
      ]
     },
     "execution_count": 139,
     "metadata": {},
     "output_type": "execute_result"
    }
   ],
   "source": []
  }
 ],
 "metadata": {
  "kernelspec": {
   "display_name": "Python 3",
   "language": "python",
   "name": "python3"
  },
  "language_info": {
   "codemirror_mode": {
    "name": "ipython",
    "version": 3
   },
   "file_extension": ".py",
   "mimetype": "text/x-python",
   "name": "python",
   "nbconvert_exporter": "python",
   "pygments_lexer": "ipython3",
   "version": "3.6.6"
  }
 },
 "nbformat": 4,
 "nbformat_minor": 2
}
