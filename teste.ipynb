{
 "cells": [
  {
   "cell_type": "code",
   "execution_count": 89,
   "metadata": {},
   "outputs": [],
   "source": [
    "from pydub import AudioSegment\n",
    "from python_speech_features import logfbank\n",
    "from python_speech_features import mfcc\n",
    "from sklearn.cluster import KMeans\n",
    "\n",
    "import numpy as np\n",
    "import scipy.io.wavfile as wav\n",
    "import speech_recognition as sr"
   ]
  },
  {
   "cell_type": "code",
   "execution_count": 34,
   "metadata": {},
   "outputs": [],
   "source": [
    "def detect_leading_silence(sound, silence_threshold=-40.0, chunk_size=10):\n",
    "    '''\n",
    "    sound is a pydub.AudioSegment\n",
    "    silence_threshold in dB\n",
    "    chunk_size in ms\n",
    "\n",
    "    iterate over chunks until you find the first one with sound\n",
    "    '''\n",
    "    trim_ms = 0 # ms\n",
    "\n",
    "    assert chunk_size > 0 # to avoid infinite loop\n",
    "    while sound[trim_ms:trim_ms+chunk_size].dBFS < silence_threshold and trim_ms < len(sound):\n",
    "        trim_ms += chunk_size\n",
    "\n",
    "    return trim_ms"
   ]
  },
  {
   "cell_type": "code",
   "execution_count": 3,
   "metadata": {},
   "outputs": [],
   "source": [
    "def remover_silencio(comando):\n",
    "\n",
    "    sound = AudioSegment.from_file(comando, format=\"wav\")\n",
    "\n",
    "    start_trim = detect_leading_silence(sound)\n",
    "    end_trim = detect_leading_silence(sound.reverse())\n",
    "\n",
    "    duration = len(sound)    \n",
    "    trimmed_sound = sound[start_trim:duration-end_trim]\n",
    "    \n",
    "    comando_recortado = comando[:-4] + \"_recortado.wav\"\n",
    "\n",
    "    trimmed_sound.set_channels(1).export(comando_recortado, format=\"wav\")\n",
    "    \n",
    "    return (comando_recortado)"
   ]
  },
  {
   "cell_type": "code",
   "execution_count": 4,
   "metadata": {},
   "outputs": [],
   "source": [
    "def limpar_audio(comando):\n",
    "\n",
    "    r = sr.Recognizer()\n",
    "\n",
    "    som = sr.AudioFile(comando)\n",
    "    with som as source:\n",
    "        r.adjust_for_ambient_noise(source)\n",
    "        audio = r.record(source)\n",
    "        \n",
    "    comando_limpo = comando[:-4] + \"_limpo.wav\"\n",
    "\n",
    "    with open(comando_limpo, \"wb\") as f:\n",
    "        f.write(audio.get_wav_data())\n",
    "        \n",
    "    return (comando_limpo)"
   ]
  },
  {
   "cell_type": "code",
   "execution_count": 93,
   "metadata": {},
   "outputs": [],
   "source": [
    "def extrair_caracteristica(audio):\n",
    "    \n",
    "    (rate,sig) = wav.read(remover_silencio(limpar_audio(audio)))\n",
    "    fbank_feat = logfbank(sig,samplerate=rate, lowfreq=50, highfreq=3400)\n",
    "    fbank_feat = fbank_feat[0:,2:13]\n",
    "    \n",
    "    caracteristica = []\n",
    "    for x in fbank_feat:\n",
    "        for y in x:\n",
    "            caracteristica.append(y)   \n",
    "    \n",
    "    return (caracteristica)"
   ]
  },
  {
   "cell_type": "code",
   "execution_count": 6,
   "metadata": {},
   "outputs": [],
   "source": [
    "def dados(audios):\n",
    "    caracteristicas = []\n",
    "    \n",
    "    for audio in audios:\n",
    "        caracteristicas.append(extrair_caracteristica(audio))\n",
    "        \n",
    "    \n",
    "    return (treinamento(caracteristicas))"
   ]
  },
  {
   "cell_type": "code",
   "execution_count": 25,
   "metadata": {},
   "outputs": [],
   "source": [
    "def treinamento(comandos):\n",
    "    menor_comando = len(comandos[0])\n",
    "    \n",
    "    for comando in comandos:\n",
    "        print(len(comando))\n",
    "        if (len(comando) < menor_comando):\n",
    "            menor_comando = len(comando)\n",
    "    x = 0        \n",
    "    for comando in comandos:\n",
    "        comandos[x] = comando[0:menor_comando]\n",
    "        x += 1\n",
    "\n",
    "    X = np.array(comandos)\n",
    "        \n",
    "    kmeans = KMeans(precompute_distances=True, n_clusters=len(X), random_state=0, n_init=12, max_iter=3000, tol=0.00001, verbose=0, algorithm='elkan').fit(X)\n",
    "    \n",
    "    print (kmeans.cluster_centers_)\n",
    "    \n",
    "    print(kmeans.labels_)\n",
    "    \n",
    "    return (kmeans)"
   ]
  },
  {
   "cell_type": "code",
   "execution_count": 96,
   "metadata": {},
   "outputs": [
    {
     "name": "stderr",
     "output_type": "stream",
     "text": [
      "WARNING:root:frame length (1103) is greater than FFT size (512), frame will be truncated. Increase NFFT to avoid.\n",
      "WARNING:root:frame length (1103) is greater than FFT size (512), frame will be truncated. Increase NFFT to avoid.\n",
      "WARNING:root:frame length (1103) is greater than FFT size (512), frame will be truncated. Increase NFFT to avoid.\n",
      "WARNING:root:frame length (1103) is greater than FFT size (512), frame will be truncated. Increase NFFT to avoid.\n",
      "WARNING:root:frame length (1103) is greater than FFT size (512), frame will be truncated. Increase NFFT to avoid.\n",
      "WARNING:root:frame length (1103) is greater than FFT size (512), frame will be truncated. Increase NFFT to avoid.\n"
     ]
    },
    {
     "name": "stdout",
     "output_type": "stream",
     "text": [
      "1562\n",
      "1716\n",
      "1606\n",
      "1815\n",
      "1892\n",
      "1760\n",
      "[[ 10.96387825 -36.04365339  10.33902417 ...   8.75455252   9.99610335\n",
      "    8.89413494]\n",
      " [ 10.82375432 -36.04365339  10.37738279 ...   7.23551959   6.42151046\n",
      "    7.56654649]\n",
      " [ 10.35773664 -36.04365339   9.08769543 ...   8.63939086   8.34006435\n",
      "    7.5047147 ]\n",
      " [ 10.62184655 -36.04365339   7.31078712 ...   5.70095284   7.36104991\n",
      "    6.60659975]\n",
      " [  9.1009345  -36.04365339   8.65002498 ...   5.57823663   7.1081914\n",
      "    4.62838427]\n",
      " [ 10.78928264 -36.04365339   9.24738535 ...   6.32668582   6.6074452\n",
      "    7.65071806]]\n",
      "[3 4 1 2 0 5]\n"
     ]
    }
   ],
   "source": [
    "kmeans = dados([\"0.wav\", \"1.wav\", \"2.wav\", \"3.wav\",\"4.wav\", \"5.wav\"])"
   ]
  },
  {
   "cell_type": "code",
   "execution_count": 83,
   "metadata": {},
   "outputs": [
    {
     "name": "stderr",
     "output_type": "stream",
     "text": [
      "WARNING:root:frame length (1103) is greater than FFT size (512), frame will be truncated. Increase NFFT to avoid.\n"
     ]
    }
   ],
   "source": [
    "a = extrair_caracteristica(\"0a.wav\") * 2"
   ]
  },
  {
   "cell_type": "code",
   "execution_count": 107,
   "metadata": {},
   "outputs": [
    {
     "name": "stderr",
     "output_type": "stream",
     "text": [
      "WARNING:root:frame length (1103) is greater than FFT size (512), frame will be truncated. Increase NFFT to avoid.\n"
     ]
    },
    {
     "data": {
      "text/plain": [
       "array([2])"
      ]
     },
     "execution_count": 107,
     "metadata": {},
     "output_type": "execute_result"
    }
   ],
   "source": [
    "kmeans.predict([extrair_caracteristica(\"4a.wav\")[0:1562]])"
   ]
  },
  {
   "cell_type": "code",
   "execution_count": 82,
   "metadata": {},
   "outputs": [
    {
     "name": "stderr",
     "output_type": "stream",
     "text": [
      "WARNING:root:frame length (1103) is greater than FFT size (512), frame will be truncated. Increase NFFT to avoid.\n"
     ]
    },
    {
     "data": {
      "text/plain": [
       "2849"
      ]
     },
     "execution_count": 82,
     "metadata": {},
     "output_type": "execute_result"
    }
   ],
   "source": [
    "len(extrair_caracteristica(\"0a.wav\"))"
   ]
  }
 ],
 "metadata": {
  "kernelspec": {
   "display_name": "Python 3",
   "language": "python",
   "name": "python3"
  },
  "language_info": {
   "codemirror_mode": {
    "name": "ipython",
    "version": 3
   },
   "file_extension": ".py",
   "mimetype": "text/x-python",
   "name": "python",
   "nbconvert_exporter": "python",
   "pygments_lexer": "ipython3",
   "version": "3.6.6"
  }
 },
 "nbformat": 4,
 "nbformat_minor": 2
}
